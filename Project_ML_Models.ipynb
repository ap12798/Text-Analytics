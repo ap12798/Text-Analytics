{
 "cells": [
  {
   "cell_type": "code",
   "execution_count": 121,
   "id": "peripheral-solid",
   "metadata": {},
   "outputs": [],
   "source": [
    "import pandas as pd\n",
    "from sklearn.feature_extraction.text import TfidfVectorizer\n",
    "from sklearn.model_selection import train_test_split\n",
    "from sklearn.neighbors import KNeighborsClassifier \n",
    "from sklearn.metrics import classification_report, confusion_matrix\n",
    "from sklearn.model_selection import cross_val_score\n",
    "from sklearn.linear_model import LogisticRegression\n",
    "from sklearn.naive_bayes import MultinomialNB\n",
    "from sklearn.svm import LinearSVC\n",
    "from sklearn.svm import SVC\n",
    "from sklearn.neural_network import MLPClassifier\n",
    "from sklearn import tree\n",
    "from sklearn.ensemble import RandomForestClassifier"
   ]
  },
  {
   "cell_type": "code",
   "execution_count": 107,
   "id": "public-training",
   "metadata": {},
   "outputs": [],
   "source": [
    "df = pd.read_csv(\"APsentiments.csv\")"
   ]
  },
  {
   "cell_type": "code",
   "execution_count": 108,
   "id": "false-healthcare",
   "metadata": {},
   "outputs": [
    {
     "data": {
      "text/html": [
       "<div>\n",
       "<style scoped>\n",
       "    .dataframe tbody tr th:only-of-type {\n",
       "        vertical-align: middle;\n",
       "    }\n",
       "\n",
       "    .dataframe tbody tr th {\n",
       "        vertical-align: top;\n",
       "    }\n",
       "\n",
       "    .dataframe thead th {\n",
       "        text-align: right;\n",
       "    }\n",
       "</style>\n",
       "<table border=\"1\" class=\"dataframe\">\n",
       "  <thead>\n",
       "    <tr style=\"text-align: right;\">\n",
       "      <th></th>\n",
       "      <th>sentence</th>\n",
       "      <th>sentiment</th>\n",
       "    </tr>\n",
       "  </thead>\n",
       "  <tbody>\n",
       "    <tr>\n",
       "      <th>0</th>\n",
       "      <td>It also increases carbon dioxide emissions whi...</td>\n",
       "      <td>neutral</td>\n",
       "    </tr>\n",
       "    <tr>\n",
       "      <th>1</th>\n",
       "      <td>We can already see this happening.\\t</td>\n",
       "      <td>negative</td>\n",
       "    </tr>\n",
       "    <tr>\n",
       "      <th>2</th>\n",
       "      <td>The ecological disaster is a consequence of no...</td>\n",
       "      <td>postive</td>\n",
       "    </tr>\n",
       "    <tr>\n",
       "      <th>3</th>\n",
       "      <td>We may be dealing with an issue with a level o...</td>\n",
       "      <td>negative</td>\n",
       "    </tr>\n",
       "    <tr>\n",
       "      <th>4</th>\n",
       "      <td>Preventable chronic diseases are Australiaâ€™s...</td>\n",
       "      <td>negative</td>\n",
       "    </tr>\n",
       "  </tbody>\n",
       "</table>\n",
       "</div>"
      ],
      "text/plain": [
       "                                            sentence sentiment\n",
       "0  It also increases carbon dioxide emissions whi...   neutral\n",
       "1               We can already see this happening.\\t  negative\n",
       "2  The ecological disaster is a consequence of no...   postive\n",
       "3  We may be dealing with an issue with a level o...  negative\n",
       "4  Preventable chronic diseases are Australiaâ€™s...  negative"
      ]
     },
     "execution_count": 108,
     "metadata": {},
     "output_type": "execute_result"
    }
   ],
   "source": [
    "df.head()"
   ]
  },
  {
   "cell_type": "code",
   "execution_count": 109,
   "id": "cultural-anthropology",
   "metadata": {},
   "outputs": [
    {
     "data": {
      "text/plain": [
       "neutral     336\n",
       "negative    278\n",
       "postive     185\n",
       "Name: sentiment, dtype: int64"
      ]
     },
     "execution_count": 109,
     "metadata": {},
     "output_type": "execute_result"
    }
   ],
   "source": [
    "df.sentiment.value_counts()"
   ]
  },
  {
   "cell_type": "code",
   "execution_count": 110,
   "id": "general-reviewer",
   "metadata": {},
   "outputs": [],
   "source": [
    "vectorizer = TfidfVectorizer(use_idf=True, norm=\"l2\", stop_words=\"english\", max_df=0.7)\n",
    "X = vectorizer.fit_transform(df.sentence)\n",
    "y = df.sentiment"
   ]
  },
  {
   "cell_type": "code",
   "execution_count": 111,
   "id": "bronze-tobago",
   "metadata": {},
   "outputs": [
    {
     "data": {
      "text/plain": [
       "((799, 4619), (799,))"
      ]
     },
     "execution_count": 111,
     "metadata": {},
     "output_type": "execute_result"
    }
   ],
   "source": [
    "X.shape, y.shape"
   ]
  },
  {
   "cell_type": "code",
   "execution_count": 112,
   "id": "joint-senegal",
   "metadata": {},
   "outputs": [],
   "source": [
    "X_train, X_test, y_train, y_test = train_test_split(X, y, test_size=0.30, random_state=0)"
   ]
  },
  {
   "cell_type": "markdown",
   "id": "unlimited-overview",
   "metadata": {},
   "source": [
    "## K-NN"
   ]
  },
  {
   "cell_type": "code",
   "execution_count": 104,
   "id": "impossible-dress",
   "metadata": {},
   "outputs": [
    {
     "name": "stdout",
     "output_type": "stream",
     "text": [
      "k = 1: [0.41071429 0.41964286 0.41071429 0.38392857 0.41441441]\n",
      "0.408, 0.012\n",
      "\n",
      "k = 3: [0.41071429 0.41071429 0.41071429 0.4375     0.41441441]\n",
      "0.417, 0.010\n",
      "\n",
      "k = 10: [0.44642857 0.48214286 0.36607143 0.4375     0.44144144]\n",
      "0.435, 0.038\n",
      "\n",
      "k = 30: [0.47321429 0.46428571 0.36607143 0.46428571 0.45945946]\n",
      "0.445, 0.040\n",
      "\n",
      "Highest score : 0.445 when k = 30\n"
     ]
    }
   ],
   "source": [
    "score_max = 0                      # Score_max is a temoporay variable to store the max score \n",
    "for param in [1, 3, 10, 30]:\n",
    "    model = KNeighborsClassifier(n_neighbors=param)\n",
    "    scores = cross_val_score(model, X_train, y_train, cv=5)\n",
    "    print(\"k = {}: {}\\n{:.3f}, {:.3f}\\n\".format(param, scores, scores.mean(), scores.std()))\n",
    "    \n",
    "    if scores.mean() > score_max:\n",
    "        score_max = scores.mean()\n",
    "        param_best = param         # Param_best is a temoporay variable to store the best parameter \n",
    "        \n",
    "print(\"Highest score : {:.3f} when k = {}\".format(score_max, param_best))"
   ]
  },
  {
   "cell_type": "code",
   "execution_count": 105,
   "id": "separate-savage",
   "metadata": {},
   "outputs": [],
   "source": [
    "def train_test(X_train, X_test, y_train, y_test, classifier):\n",
    "    classifier.fit(X_train, y_train)\n",
    "    pred = classifier.predict(X_test)\n",
    "    \n",
    "    print(\"Train score: {:.2f}\".format(classifier.score(X_train, y_train)))\n",
    "    print(\"Test score: {:.2f}\\n\".format(classifier.score(X_test, y_test)))\n",
    "    print(\"Classification report:\\n{}\".format(classification_report(y_test, pred, zero_division=0)))\n",
    "    print(confusion_matrix(y_test,pred))\n",
    "    \n",
    "    return classifier"
   ]
  },
  {
   "cell_type": "code",
   "execution_count": 95,
   "id": "technical-fever",
   "metadata": {},
   "outputs": [
    {
     "name": "stdout",
     "output_type": "stream",
     "text": [
      "k = 30\n",
      "Train score: 0.49\n",
      "Test score: 0.41\n",
      "\n",
      "Classification report:\n",
      "              precision    recall  f1-score   support\n",
      "\n",
      "    negative       0.34      0.24      0.28        88\n",
      "     neutral       0.43      0.73      0.54       105\n",
      "     postive       0.00      0.00      0.00        47\n",
      "\n",
      "    accuracy                           0.41       240\n",
      "   macro avg       0.26      0.32      0.27       240\n",
      "weighted avg       0.31      0.41      0.34       240\n",
      "\n",
      "[[21 67  0]\n",
      " [28 77  0]\n",
      " [13 34  0]]\n"
     ]
    }
   ],
   "source": [
    "print(\"k = {}\".format(param_best))\n",
    "knn = KNeighborsClassifier(n_neighbors=param_best)\n",
    "knn = train_test(X_train, X_test, y_train, y_test, knn)"
   ]
  },
  {
   "cell_type": "code",
   "execution_count": 96,
   "id": "controversial-selection",
   "metadata": {},
   "outputs": [],
   "source": [
    "summary = {}\n",
    "summary[\"k-NNs\"] = round(knn.score(X_test, y_test), 3)"
   ]
  },
  {
   "cell_type": "markdown",
   "id": "convenient-surgeon",
   "metadata": {},
   "source": [
    "## Logistic Regression"
   ]
  },
  {
   "cell_type": "code",
   "execution_count": 38,
   "id": "after-pixel",
   "metadata": {},
   "outputs": [],
   "source": [
    "lr = LogisticRegression()"
   ]
  },
  {
   "cell_type": "code",
   "execution_count": 39,
   "id": "minimal-hierarchy",
   "metadata": {},
   "outputs": [
    {
     "name": "stdout",
     "output_type": "stream",
     "text": [
      "[0.48214286 0.45535714 0.36607143 0.47321429 0.45945946]\n",
      "0.447, 0.042\n"
     ]
    }
   ],
   "source": [
    "scores = cross_val_score(lr, X_train, y_train, cv=5)\n",
    "print(\"{}\\n{:.3f}, {:.3f}\".format(scores, scores.mean(), scores.std()))"
   ]
  },
  {
   "cell_type": "code",
   "execution_count": 41,
   "id": "selected-cooperative",
   "metadata": {},
   "outputs": [
    {
     "name": "stdout",
     "output_type": "stream",
     "text": [
      "Train score: 0.99\n",
      "Test score: 0.45\n",
      "\n",
      "Classification report:\n",
      "              precision    recall  f1-score   support\n",
      "\n",
      "    negative       0.43      0.23      0.30        88\n",
      "     neutral       0.45      0.83      0.59       105\n",
      "     postive       1.00      0.02      0.04        47\n",
      "\n",
      "    accuracy                           0.45       240\n",
      "   macro avg       0.63      0.36      0.31       240\n",
      "weighted avg       0.55      0.45      0.37       240\n",
      "\n",
      "[[20 68  0]\n",
      " [18 87  0]\n",
      " [ 9 37  1]]\n"
     ]
    }
   ],
   "source": [
    "lr = train_test(X_train, X_test, y_train, y_test, lr)"
   ]
  },
  {
   "cell_type": "code",
   "execution_count": 48,
   "id": "color-farming",
   "metadata": {},
   "outputs": [],
   "source": [
    "summary[\"Logistic Regression\"] = round(lr.score(X_test, y_test), 3)"
   ]
  },
  {
   "cell_type": "markdown",
   "id": "armed-dealer",
   "metadata": {},
   "source": [
    "## Multinomial NB"
   ]
  },
  {
   "cell_type": "code",
   "execution_count": 42,
   "id": "humanitarian-superior",
   "metadata": {},
   "outputs": [
    {
     "data": {
      "text/plain": [
       "MultinomialNB()"
      ]
     },
     "execution_count": 42,
     "metadata": {},
     "output_type": "execute_result"
    }
   ],
   "source": [
    "mnb = MultinomialNB()\n",
    "mnb"
   ]
  },
  {
   "cell_type": "code",
   "execution_count": 43,
   "id": "latin-manitoba",
   "metadata": {},
   "outputs": [
    {
     "name": "stdout",
     "output_type": "stream",
     "text": [
      "[0.46428571 0.48214286 0.39285714 0.51785714 0.48648649]\n",
      "0.469, 0.042\n"
     ]
    }
   ],
   "source": [
    "scores = cross_val_score(mnb, X_train, y_train, cv=5)\n",
    "print(\"{}\\n{:.3f}, {:.3f}\".format(scores, scores.mean(), scores.std()))"
   ]
  },
  {
   "cell_type": "code",
   "execution_count": 44,
   "id": "underlying-virginia",
   "metadata": {},
   "outputs": [
    {
     "name": "stdout",
     "output_type": "stream",
     "text": [
      "Train score: 0.95\n",
      "Test score: 0.45\n",
      "\n",
      "Classification report:\n",
      "              precision    recall  f1-score   support\n",
      "\n",
      "    negative       0.43      0.25      0.32        88\n",
      "     neutral       0.46      0.82      0.59       105\n",
      "     postive       1.00      0.02      0.04        47\n",
      "\n",
      "    accuracy                           0.45       240\n",
      "   macro avg       0.63      0.36      0.32       240\n",
      "weighted avg       0.55      0.45      0.38       240\n",
      "\n",
      "[[22 66  0]\n",
      " [19 86  0]\n",
      " [10 36  1]]\n"
     ]
    }
   ],
   "source": [
    "mnb = train_test(X_train, X_test, y_train, y_test, mnb)"
   ]
  },
  {
   "cell_type": "code",
   "execution_count": 49,
   "id": "rough-penetration",
   "metadata": {},
   "outputs": [],
   "source": [
    "summary[\"Multinomial Naive Bayes\"] = round(mnb.score(X_test, y_test), 3)"
   ]
  },
  {
   "cell_type": "markdown",
   "id": "single-detail",
   "metadata": {},
   "source": [
    "## Modeling with Linear Support Vector Machines (SVMs)"
   ]
  },
  {
   "cell_type": "code",
   "execution_count": 51,
   "id": "expired-identifier",
   "metadata": {},
   "outputs": [
    {
     "data": {
      "text/plain": [
       "LinearSVC(C=1)"
      ]
     },
     "execution_count": 51,
     "metadata": {},
     "output_type": "execute_result"
    }
   ],
   "source": [
    "svm = LinearSVC(C=1)\n",
    "svm"
   ]
  },
  {
   "cell_type": "code",
   "execution_count": 52,
   "id": "boolean-screening",
   "metadata": {},
   "outputs": [
    {
     "name": "stdout",
     "output_type": "stream",
     "text": [
      "Train score: 1.00\n",
      "Test score: 0.43\n",
      "\n",
      "Classification report:\n",
      "              precision    recall  f1-score   support\n",
      "\n",
      "    negative       0.41      0.35      0.38        88\n",
      "     neutral       0.44      0.64      0.52       105\n",
      "     postive       0.36      0.11      0.16        47\n",
      "\n",
      "    accuracy                           0.43       240\n",
      "   macro avg       0.40      0.37      0.36       240\n",
      "weighted avg       0.42      0.43      0.40       240\n",
      "\n",
      "[[31 55  2]\n",
      " [31 67  7]\n",
      " [13 29  5]]\n"
     ]
    }
   ],
   "source": [
    "svm = train_test(X_train, X_test, y_train, y_test, svm)"
   ]
  },
  {
   "cell_type": "code",
   "execution_count": 53,
   "id": "varying-creek",
   "metadata": {},
   "outputs": [
    {
     "name": "stdout",
     "output_type": "stream",
     "text": [
      "C = 0.01: [0.41071429 0.41071429 0.41071429 0.41964286 0.41441441]\n",
      "0.413, 0.004\n",
      "\n",
      "C = 0.03: [0.41071429 0.41964286 0.41071429 0.41071429 0.41441441]\n",
      "0.413, 0.004\n",
      "\n",
      "C = 0.1: [0.47321429 0.45535714 0.375      0.47321429 0.45945946]\n",
      "0.447, 0.037\n",
      "\n",
      "C = 0.3: [0.4375     0.49107143 0.375      0.49107143 0.45045045]\n",
      "0.449, 0.043\n",
      "\n",
      "C = 1: [0.48214286 0.44642857 0.33035714 0.48214286 0.43243243]\n",
      "0.435, 0.056\n",
      "\n",
      "C = 3: [0.49107143 0.44642857 0.34821429 0.46428571 0.41441441]\n",
      "0.433, 0.049\n",
      "\n",
      "C = 10: [0.48214286 0.42857143 0.375      0.4375     0.41441441]\n",
      "0.428, 0.035\n",
      "\n",
      "Highest score : 0.449 when C = 0.3\n"
     ]
    }
   ],
   "source": [
    "score_max = 0\n",
    "for param in [0.01, 0.03, 0.1, 0.3, 1, 3, 10]:\n",
    "    model = LinearSVC(C=param)\n",
    "    scores = cross_val_score(model, X_train, y_train, cv=5)\n",
    "    print(\"C = {}: {}\\n{:.3f}, {:.3f}\\n\".format(param, scores, scores.mean(), scores.std()))\n",
    "    \n",
    "    if scores.mean() > score_max:\n",
    "        score_max = scores.mean()\n",
    "        param_best = param\n",
    "        \n",
    "print(\"Highest score : {:.3f} when C = {}\".format(score_max, param_best))"
   ]
  },
  {
   "cell_type": "code",
   "execution_count": 54,
   "id": "abstract-satisfaction",
   "metadata": {},
   "outputs": [
    {
     "name": "stdout",
     "output_type": "stream",
     "text": [
      "C = 0.3\n",
      "Train score: 1.00\n",
      "Test score: 0.45\n",
      "\n",
      "Classification report:\n",
      "              precision    recall  f1-score   support\n",
      "\n",
      "    negative       0.45      0.31      0.36        88\n",
      "     neutral       0.45      0.75      0.56       105\n",
      "     postive       0.40      0.04      0.08        47\n",
      "\n",
      "    accuracy                           0.45       240\n",
      "   macro avg       0.43      0.37      0.34       240\n",
      "weighted avg       0.44      0.45      0.40       240\n",
      "\n",
      "[[27 61  0]\n",
      " [23 79  3]\n",
      " [10 35  2]]\n"
     ]
    }
   ],
   "source": [
    "print(\"C = {}\".format(param_best))\n",
    "svm = LinearSVC(C=param_best)\n",
    "svm = train_test(X_train, X_test, y_train, y_test, svm)"
   ]
  },
  {
   "cell_type": "code",
   "execution_count": 55,
   "id": "adapted-click",
   "metadata": {},
   "outputs": [],
   "source": [
    "summary[\"Linear SVMs\"] = round(svm.score(X_test, y_test), 3)"
   ]
  },
  {
   "cell_type": "markdown",
   "id": "close-playing",
   "metadata": {},
   "source": [
    "## Modeling with Kernelized Support Vector Machines (KSVMs)"
   ]
  },
  {
   "cell_type": "code",
   "execution_count": 57,
   "id": "sized-fellowship",
   "metadata": {},
   "outputs": [
    {
     "data": {
      "text/plain": [
       "SVC(C=1)"
      ]
     },
     "execution_count": 57,
     "metadata": {},
     "output_type": "execute_result"
    }
   ],
   "source": [
    "ksvm = SVC(C=1, kernel=\"rbf\", gamma=\"scale\")\n",
    "ksvm"
   ]
  },
  {
   "cell_type": "code",
   "execution_count": 58,
   "id": "white-petite",
   "metadata": {},
   "outputs": [
    {
     "name": "stdout",
     "output_type": "stream",
     "text": [
      "Train score: 1.00\n",
      "Test score: 0.45\n",
      "\n",
      "Classification report:\n",
      "              precision    recall  f1-score   support\n",
      "\n",
      "    negative       0.67      0.05      0.09        88\n",
      "     neutral       0.45      1.00      0.62       105\n",
      "     postive       0.00      0.00      0.00        47\n",
      "\n",
      "    accuracy                           0.45       240\n",
      "   macro avg       0.37      0.35      0.23       240\n",
      "weighted avg       0.44      0.45      0.30       240\n",
      "\n",
      "[[  4  84   0]\n",
      " [  0 105   0]\n",
      " [  2  45   0]]\n"
     ]
    }
   ],
   "source": [
    "ksvm = train_test(X_train, X_test, y_train, y_test, ksvm)"
   ]
  },
  {
   "cell_type": "code",
   "execution_count": 59,
   "id": "accompanied-cuisine",
   "metadata": {},
   "outputs": [
    {
     "name": "stdout",
     "output_type": "stream",
     "text": [
      "C = 0.01: [0.41071429 0.41071429 0.41071429 0.41964286 0.41441441]\n",
      "0.413, 0.004\n",
      "\n",
      "C = 0.03: [0.41071429 0.41071429 0.41071429 0.41964286 0.41441441]\n",
      "0.413, 0.004\n",
      "\n",
      "C = 0.1: [0.41071429 0.41071429 0.41071429 0.41964286 0.41441441]\n",
      "0.413, 0.004\n",
      "\n",
      "C = 0.3: [0.41071429 0.41071429 0.41071429 0.41964286 0.41441441]\n",
      "0.413, 0.004\n",
      "\n",
      "C = 1: [0.41071429 0.4375     0.41964286 0.40178571 0.42342342]\n",
      "0.419, 0.012\n",
      "\n",
      "C = 3: [0.47321429 0.46428571 0.375      0.48214286 0.45045045]\n",
      "0.449, 0.038\n",
      "\n",
      "C = 10: [0.47321429 0.46428571 0.375      0.48214286 0.45045045]\n",
      "0.449, 0.038\n",
      "\n",
      "Highest score : 0.449 when C = 3\n"
     ]
    }
   ],
   "source": [
    "score_max = 0\n",
    "for param in [0.01, 0.03, 0.1, 0.3, 1, 3, 10]:\n",
    "    model = SVC(C=param, kernel=\"rbf\", gamma=\"scale\")\n",
    "    scores = cross_val_score(model, X_train, y_train, cv=5)\n",
    "    print(\"C = {}: {}\\n{:.3f}, {:.3f}\\n\".format(param, scores, scores.mean(), scores.std()))\n",
    "    \n",
    "    if scores.mean() > score_max:\n",
    "        score_max = scores.mean()\n",
    "        param_best = param\n",
    "        \n",
    "print(\"Highest score : {:.3f} when C = {}\".format(score_max, param_best))"
   ]
  },
  {
   "cell_type": "code",
   "execution_count": 60,
   "id": "ideal-breeding",
   "metadata": {},
   "outputs": [
    {
     "name": "stdout",
     "output_type": "stream",
     "text": [
      "C = 3\n",
      "Train score: 1.00\n",
      "Test score: 0.46\n",
      "\n",
      "Classification report:\n",
      "              precision    recall  f1-score   support\n",
      "\n",
      "    negative       0.45      0.24      0.31        88\n",
      "     neutral       0.46      0.84      0.59       105\n",
      "     postive       1.00      0.02      0.04        47\n",
      "\n",
      "    accuracy                           0.46       240\n",
      "   macro avg       0.64      0.37      0.32       240\n",
      "weighted avg       0.56      0.46      0.38       240\n",
      "\n",
      "[[21 67  0]\n",
      " [17 88  0]\n",
      " [ 9 37  1]]\n"
     ]
    }
   ],
   "source": [
    "print(\"C = {}\".format(param_best))\n",
    "ksvm = SVC(C=param_best)\n",
    "ksvm = train_test(X_train, X_test, y_train, y_test, ksvm)"
   ]
  },
  {
   "cell_type": "code",
   "execution_count": 61,
   "id": "polished-administration",
   "metadata": {},
   "outputs": [],
   "source": [
    "summary[\"Kernelized SVMs\"] = round(ksvm.score(X_test, y_test), 3)"
   ]
  },
  {
   "cell_type": "markdown",
   "id": "bored-oxide",
   "metadata": {},
   "source": [
    "## Modeling with Neural Networks"
   ]
  },
  {
   "cell_type": "code",
   "execution_count": 64,
   "id": "strategic-married",
   "metadata": {},
   "outputs": [
    {
     "data": {
      "text/plain": [
       "MLPClassifier(hidden_layer_sizes=(10,), random_state=0)"
      ]
     },
     "execution_count": 64,
     "metadata": {},
     "output_type": "execute_result"
    }
   ],
   "source": [
    "mlp = MLPClassifier(hidden_layer_sizes=(10, ), activation=\"relu\", random_state=0)\n",
    "mlp"
   ]
  },
  {
   "cell_type": "code",
   "execution_count": 65,
   "id": "ready-tender",
   "metadata": {},
   "outputs": [
    {
     "name": "stdout",
     "output_type": "stream",
     "text": [
      "Train score: 1.00\n",
      "Test score: 0.44\n",
      "\n",
      "Classification report:\n",
      "              precision    recall  f1-score   support\n",
      "\n",
      "    negative       0.40      0.39      0.40        88\n",
      "     neutral       0.47      0.62      0.53       105\n",
      "     postive       0.35      0.13      0.19        47\n",
      "\n",
      "    accuracy                           0.44       240\n",
      "   macro avg       0.41      0.38      0.37       240\n",
      "weighted avg       0.42      0.44      0.41       240\n",
      "\n",
      "[[34 49  5]\n",
      " [34 65  6]\n",
      " [16 25  6]]\n"
     ]
    },
    {
     "name": "stderr",
     "output_type": "stream",
     "text": [
      "/home/aportr/.local/lib/python3.7/site-packages/sklearn/neural_network/_multilayer_perceptron.py:617: ConvergenceWarning: Stochastic Optimizer: Maximum iterations (200) reached and the optimization hasn't converged yet.\n",
      "  % self.max_iter, ConvergenceWarning)\n"
     ]
    }
   ],
   "source": [
    "mlp = train_test(X_train, X_test, y_train, y_test, mlp)"
   ]
  },
  {
   "cell_type": "code",
   "execution_count": 66,
   "id": "tough-yorkshire",
   "metadata": {},
   "outputs": [
    {
     "name": "stderr",
     "output_type": "stream",
     "text": [
      "/home/aportr/.local/lib/python3.7/site-packages/sklearn/neural_network/_multilayer_perceptron.py:617: ConvergenceWarning: Stochastic Optimizer: Maximum iterations (200) reached and the optimization hasn't converged yet.\n",
      "  % self.max_iter, ConvergenceWarning)\n",
      "/home/aportr/.local/lib/python3.7/site-packages/sklearn/neural_network/_multilayer_perceptron.py:617: ConvergenceWarning: Stochastic Optimizer: Maximum iterations (200) reached and the optimization hasn't converged yet.\n",
      "  % self.max_iter, ConvergenceWarning)\n",
      "/home/aportr/.local/lib/python3.7/site-packages/sklearn/neural_network/_multilayer_perceptron.py:617: ConvergenceWarning: Stochastic Optimizer: Maximum iterations (200) reached and the optimization hasn't converged yet.\n",
      "  % self.max_iter, ConvergenceWarning)\n",
      "/home/aportr/.local/lib/python3.7/site-packages/sklearn/neural_network/_multilayer_perceptron.py:617: ConvergenceWarning: Stochastic Optimizer: Maximum iterations (200) reached and the optimization hasn't converged yet.\n",
      "  % self.max_iter, ConvergenceWarning)\n",
      "/home/aportr/.local/lib/python3.7/site-packages/sklearn/neural_network/_multilayer_perceptron.py:617: ConvergenceWarning: Stochastic Optimizer: Maximum iterations (200) reached and the optimization hasn't converged yet.\n",
      "  % self.max_iter, ConvergenceWarning)\n"
     ]
    },
    {
     "name": "stdout",
     "output_type": "stream",
     "text": [
      "hidden_layer_size = 10: [0.5        0.47321429 0.30357143 0.42857143 0.45045045]\n",
      "0.431, 0.068\n",
      "\n"
     ]
    },
    {
     "name": "stderr",
     "output_type": "stream",
     "text": [
      "/home/aportr/.local/lib/python3.7/site-packages/sklearn/neural_network/_multilayer_perceptron.py:617: ConvergenceWarning: Stochastic Optimizer: Maximum iterations (200) reached and the optimization hasn't converged yet.\n",
      "  % self.max_iter, ConvergenceWarning)\n",
      "/home/aportr/.local/lib/python3.7/site-packages/sklearn/neural_network/_multilayer_perceptron.py:617: ConvergenceWarning: Stochastic Optimizer: Maximum iterations (200) reached and the optimization hasn't converged yet.\n",
      "  % self.max_iter, ConvergenceWarning)\n",
      "/home/aportr/.local/lib/python3.7/site-packages/sklearn/neural_network/_multilayer_perceptron.py:617: ConvergenceWarning: Stochastic Optimizer: Maximum iterations (200) reached and the optimization hasn't converged yet.\n",
      "  % self.max_iter, ConvergenceWarning)\n",
      "/home/aportr/.local/lib/python3.7/site-packages/sklearn/neural_network/_multilayer_perceptron.py:617: ConvergenceWarning: Stochastic Optimizer: Maximum iterations (200) reached and the optimization hasn't converged yet.\n",
      "  % self.max_iter, ConvergenceWarning)\n",
      "/home/aportr/.local/lib/python3.7/site-packages/sklearn/neural_network/_multilayer_perceptron.py:617: ConvergenceWarning: Stochastic Optimizer: Maximum iterations (200) reached and the optimization hasn't converged yet.\n",
      "  % self.max_iter, ConvergenceWarning)\n"
     ]
    },
    {
     "name": "stdout",
     "output_type": "stream",
     "text": [
      "hidden_layer_size = 30: [0.44642857 0.44642857 0.32142857 0.41964286 0.46846847]\n",
      "0.420, 0.052\n",
      "\n",
      "hidden_layer_size = 100: [0.46428571 0.45535714 0.33928571 0.41964286 0.45045045]\n",
      "0.426, 0.046\n",
      "\n",
      "Highest score : 0.431 when hidden_layer_sizes = 10\n"
     ]
    }
   ],
   "source": [
    "score_max = 0\n",
    "for param in [10, 30, 100]:\n",
    "    model = MLPClassifier(hidden_layer_sizes=(param, ), activation=\"relu\", random_state=0)\n",
    "    scores = cross_val_score(model, X_train, y_train, cv=5)\n",
    "    print(\"hidden_layer_size = {}: {}\\n{:.3f}, {:.3f}\\n\".format(param, scores, scores.mean(), scores.std()))\n",
    "    \n",
    "    if scores.mean() > score_max:\n",
    "        score_max = scores.mean()\n",
    "        param_best = param\n",
    "        \n",
    "print(\"Highest score : {:.3f} when hidden_layer_sizes = {}\".format(score_max, param_best))"
   ]
  },
  {
   "cell_type": "code",
   "execution_count": 67,
   "id": "north-sheriff",
   "metadata": {},
   "outputs": [
    {
     "name": "stdout",
     "output_type": "stream",
     "text": [
      "hidden_layer_size = 10\n",
      "Train score: 1.00\n",
      "Test score: 0.44\n",
      "\n",
      "Classification report:\n",
      "              precision    recall  f1-score   support\n",
      "\n",
      "    negative       0.40      0.39      0.40        88\n",
      "     neutral       0.47      0.62      0.53       105\n",
      "     postive       0.35      0.13      0.19        47\n",
      "\n",
      "    accuracy                           0.44       240\n",
      "   macro avg       0.41      0.38      0.37       240\n",
      "weighted avg       0.42      0.44      0.41       240\n",
      "\n",
      "[[34 49  5]\n",
      " [34 65  6]\n",
      " [16 25  6]]\n"
     ]
    },
    {
     "name": "stderr",
     "output_type": "stream",
     "text": [
      "/home/aportr/.local/lib/python3.7/site-packages/sklearn/neural_network/_multilayer_perceptron.py:617: ConvergenceWarning: Stochastic Optimizer: Maximum iterations (200) reached and the optimization hasn't converged yet.\n",
      "  % self.max_iter, ConvergenceWarning)\n"
     ]
    }
   ],
   "source": [
    "print(\"hidden_layer_size = {}\".format(param_best))\n",
    "mlp = MLPClassifier(hidden_layer_sizes=(param_best, ), random_state=0)\n",
    "mlp = train_test(X_train, X_test, y_train, y_test, mlp)"
   ]
  },
  {
   "cell_type": "code",
   "execution_count": 68,
   "id": "awful-antique",
   "metadata": {},
   "outputs": [],
   "source": [
    "summary[\"Neural Networks\"] = round(mlp.score(X_test, y_test), 3)"
   ]
  },
  {
   "cell_type": "markdown",
   "id": "specialized-kidney",
   "metadata": {},
   "source": [
    "## Decision Tree Classifier"
   ]
  },
  {
   "cell_type": "code",
   "execution_count": 115,
   "id": "widespread-catch",
   "metadata": {},
   "outputs": [
    {
     "data": {
      "text/plain": [
       "DecisionTreeClassifier()"
      ]
     },
     "execution_count": 115,
     "metadata": {},
     "output_type": "execute_result"
    }
   ],
   "source": [
    "dt = tree.DecisionTreeClassifier()\n",
    "dt"
   ]
  },
  {
   "cell_type": "code",
   "execution_count": 116,
   "id": "meaningful-comment",
   "metadata": {},
   "outputs": [
    {
     "name": "stdout",
     "output_type": "stream",
     "text": [
      "[0.33928571 0.41071429 0.38392857 0.44642857 0.42342342]\n",
      "0.401, 0.037\n"
     ]
    }
   ],
   "source": [
    "scores = cross_val_score(dt, X_train, y_train, cv=5)\n",
    "print(\"{}\\n{:.3f}, {:.3f}\".format(scores, scores.mean(), scores.std()))"
   ]
  },
  {
   "cell_type": "code",
   "execution_count": 117,
   "id": "german-blowing",
   "metadata": {},
   "outputs": [
    {
     "name": "stdout",
     "output_type": "stream",
     "text": [
      "Train score: 1.00\n",
      "Test score: 0.40\n",
      "\n",
      "Classification report:\n",
      "              precision    recall  f1-score   support\n",
      "\n",
      "    negative       0.40      0.28      0.33        88\n",
      "     neutral       0.43      0.61      0.50       105\n",
      "     postive       0.22      0.13      0.16        47\n",
      "\n",
      "    accuracy                           0.40       240\n",
      "   macro avg       0.35      0.34      0.33       240\n",
      "weighted avg       0.38      0.40      0.37       240\n",
      "\n",
      "[[25 55  8]\n",
      " [28 64 13]\n",
      " [10 31  6]]\n"
     ]
    }
   ],
   "source": [
    "dt = train_test(X_train, X_test, y_train, y_test, dt)"
   ]
  },
  {
   "cell_type": "code",
   "execution_count": 118,
   "id": "supported-perfume",
   "metadata": {},
   "outputs": [],
   "source": [
    "summary[\"Decision Tree\"] = round(dt.score(X_test, y_test), 3)"
   ]
  },
  {
   "cell_type": "markdown",
   "id": "informative-diagnosis",
   "metadata": {},
   "source": [
    "## Random Forest"
   ]
  },
  {
   "cell_type": "code",
   "execution_count": 148,
   "id": "stock-software",
   "metadata": {},
   "outputs": [
    {
     "name": "stdout",
     "output_type": "stream",
     "text": [
      "C = 1: [0.41071429 0.41071429 0.41071429 0.41964286 0.41441441]\n",
      "0.413, 0.004\n",
      "\n",
      "C = 3: [0.41071429 0.41071429 0.41071429 0.41964286 0.41441441]\n",
      "0.413, 0.004\n",
      "\n",
      "C = 10: [0.41071429 0.42857143 0.41964286 0.41071429 0.42342342]\n",
      "0.419, 0.007\n",
      "\n",
      "C = 12: [0.42857143 0.41964286 0.41964286 0.41071429 0.42342342]\n",
      "0.420, 0.006\n",
      "\n",
      "C = 14: [0.39285714 0.42857143 0.41964286 0.4375     0.42342342]\n",
      "0.420, 0.015\n",
      "\n",
      "C = 16: [0.42857143 0.45535714 0.42857143 0.41964286 0.43243243]\n",
      "0.433, 0.012\n",
      "\n",
      "C = 18: [0.4375     0.40178571 0.42857143 0.44642857 0.43243243]\n",
      "0.429, 0.015\n",
      "\n",
      "C = 20: [0.41964286 0.42857143 0.39285714 0.4375     0.43243243]\n",
      "0.422, 0.016\n",
      "\n",
      "Highest score : 0.433 when C = 16\n"
     ]
    }
   ],
   "source": [
    "score_max = 0\n",
    "for param in [1, 3, 10, 12, 14, 16, 18, 20]:\n",
    "    model = RandomForestClassifier(max_depth=param)\n",
    "    scores = cross_val_score(model, X_train, y_train, cv=5)\n",
    "    print(\"C = {}: {}\\n{:.3f}, {:.3f}\\n\".format(param, scores, scores.mean(), scores.std()))\n",
    "    \n",
    "    if scores.mean() > score_max:\n",
    "        score_max = scores.mean()\n",
    "        param_best = param\n",
    "        \n",
    "print(\"Highest score : {:.3f} when C = {}\".format(score_max, param_best))"
   ]
  },
  {
   "cell_type": "code",
   "execution_count": 149,
   "id": "established-track",
   "metadata": {},
   "outputs": [
    {
     "name": "stdout",
     "output_type": "stream",
     "text": [
      "C = 16\n",
      "Train score: 0.60\n",
      "Test score: 0.46\n",
      "\n",
      "Classification report:\n",
      "              precision    recall  f1-score   support\n",
      "\n",
      "    negative       0.57      0.09      0.16        88\n",
      "     neutral       0.45      0.97      0.62       105\n",
      "     postive       0.00      0.00      0.00        47\n",
      "\n",
      "    accuracy                           0.46       240\n",
      "   macro avg       0.34      0.35      0.26       240\n",
      "weighted avg       0.41      0.46      0.33       240\n",
      "\n",
      "[[  8  80   0]\n",
      " [  3 102   0]\n",
      " [  3  44   0]]\n"
     ]
    }
   ],
   "source": [
    "print(\"C = {}\".format(param_best))\n",
    "rf = RandomForestClassifier(max_depth=param_best)\n",
    "rf = train_test(X_train, X_test, y_train, y_test, rf)"
   ]
  },
  {
   "cell_type": "code",
   "execution_count": 141,
   "id": "convinced-beast",
   "metadata": {},
   "outputs": [
    {
     "data": {
      "text/plain": [
       "RandomForestClassifier(max_depth=16, n_estimators=10)"
      ]
     },
     "execution_count": 141,
     "metadata": {},
     "output_type": "execute_result"
    }
   ],
   "source": [
    "# rf = RandomForestClassifier(max_depth = 16, n_estimators=10)\n",
    "# rf"
   ]
  },
  {
   "cell_type": "code",
   "execution_count": 142,
   "id": "dynamic-freedom",
   "metadata": {},
   "outputs": [
    {
     "name": "stdout",
     "output_type": "stream",
     "text": [
      "[0.45535714 0.41964286 0.41071429 0.42857143 0.40540541]\n",
      "0.424, 0.018\n"
     ]
    }
   ],
   "source": [
    "# scores = cross_val_score(rf, X_train, y_train, cv=5)\n",
    "# print(\"{}\\n{:.3f}, {:.3f}\".format(scores, scores.mean(), scores.std()))"
   ]
  },
  {
   "cell_type": "code",
   "execution_count": 143,
   "id": "unique-calgary",
   "metadata": {},
   "outputs": [
    {
     "name": "stdout",
     "output_type": "stream",
     "text": [
      "Train score: 0.61\n",
      "Test score: 0.42\n",
      "\n",
      "Classification report:\n",
      "              precision    recall  f1-score   support\n",
      "\n",
      "    negative       0.41      0.14      0.21        88\n",
      "     neutral       0.43      0.85      0.57       105\n",
      "     postive       0.00      0.00      0.00        47\n",
      "\n",
      "    accuracy                           0.42       240\n",
      "   macro avg       0.28      0.33      0.26       240\n",
      "weighted avg       0.34      0.42      0.32       240\n",
      "\n",
      "[[12 74  2]\n",
      " [14 89  2]\n",
      " [ 3 44  0]]\n"
     ]
    }
   ],
   "source": [
    "# rf = train_test(X_train, X_test, y_train, y_test, rf)"
   ]
  },
  {
   "cell_type": "code",
   "execution_count": 144,
   "id": "altered-beauty",
   "metadata": {},
   "outputs": [],
   "source": [
    "summary[\"Random Forest\"] = round(rf.score(X_test, y_test), 3)"
   ]
  },
  {
   "cell_type": "code",
   "execution_count": 145,
   "id": "stainless-mediterranean",
   "metadata": {},
   "outputs": [
    {
     "data": {
      "text/plain": [
       "{'Logistic Regression': 0.45,\n",
       " 'Multinomial Naive Bayes': 0.454,\n",
       " 'Linear SVMs': 0.45,\n",
       " 'Kernelized SVMs': 0.458,\n",
       " 'Neural Networks': 0.438,\n",
       " 'k-NNs': 0.408,\n",
       " 'Decision Tree': 0.396,\n",
       " 'Random Forest': 0.421}"
      ]
     },
     "execution_count": 145,
     "metadata": {},
     "output_type": "execute_result"
    }
   ],
   "source": [
    "summary"
   ]
  },
  {
   "cell_type": "markdown",
   "id": "successful-heading",
   "metadata": {},
   "source": [
    "## New sentences"
   ]
  },
  {
   "cell_type": "code",
   "execution_count": 77,
   "id": "spread-boundary",
   "metadata": {},
   "outputs": [],
   "source": [
    "text1 = \"This is amazing, climate change initiatives have created so many jobs!\"\n",
    "text2 = \"I hate the bad idea of hotter temperatures and the horrible fact that ice caps are melting\"\n",
    "text3 = \"Ice caps are melting faster each year\""
   ]
  },
  {
   "cell_type": "code",
   "execution_count": 78,
   "id": "fifth-shore",
   "metadata": {},
   "outputs": [],
   "source": [
    "new_texts = [text1, text2, text3]\n",
    "X_new = vectorizer.transform(new_texts)"
   ]
  },
  {
   "cell_type": "code",
   "execution_count": 79,
   "id": "coordinate-casino",
   "metadata": {},
   "outputs": [
    {
     "data": {
      "text/plain": [
       "array(['neutral', 'neutral', 'neutral'], dtype=object)"
      ]
     },
     "execution_count": 79,
     "metadata": {},
     "output_type": "execute_result"
    }
   ],
   "source": [
    "lr.predict(X_new)"
   ]
  },
  {
   "cell_type": "code",
   "execution_count": 80,
   "id": "coordinate-malaysia",
   "metadata": {},
   "outputs": [
    {
     "data": {
      "text/plain": [
       "array(['neutral', 'negative', 'neutral'], dtype='<U8')"
      ]
     },
     "execution_count": 80,
     "metadata": {},
     "output_type": "execute_result"
    }
   ],
   "source": [
    "mnb.predict(X_new)"
   ]
  },
  {
   "cell_type": "code",
   "execution_count": 81,
   "id": "invisible-equity",
   "metadata": {},
   "outputs": [
    {
     "data": {
      "text/plain": [
       "array(['neutral', 'negative', 'neutral'], dtype=object)"
      ]
     },
     "execution_count": 81,
     "metadata": {},
     "output_type": "execute_result"
    }
   ],
   "source": [
    "svm.predict(X_new)"
   ]
  },
  {
   "cell_type": "code",
   "execution_count": 82,
   "id": "personal-hammer",
   "metadata": {},
   "outputs": [
    {
     "data": {
      "text/plain": [
       "array(['neutral', 'negative', 'neutral'], dtype=object)"
      ]
     },
     "execution_count": 82,
     "metadata": {},
     "output_type": "execute_result"
    }
   ],
   "source": [
    "ksvm.predict(X_new)"
   ]
  },
  {
   "cell_type": "code",
   "execution_count": 83,
   "id": "dimensional-tribute",
   "metadata": {},
   "outputs": [
    {
     "data": {
      "text/plain": [
       "array(['postive', 'negative', 'neutral'], dtype='<U8')"
      ]
     },
     "execution_count": 83,
     "metadata": {},
     "output_type": "execute_result"
    }
   ],
   "source": [
    "mlp.predict(X_new)"
   ]
  },
  {
   "cell_type": "code",
   "execution_count": 120,
   "id": "compliant-thesis",
   "metadata": {},
   "outputs": [
    {
     "data": {
      "text/plain": [
       "array(['postive', 'negative', 'negative'], dtype=object)"
      ]
     },
     "execution_count": 120,
     "metadata": {},
     "output_type": "execute_result"
    }
   ],
   "source": [
    "dt.predict(X_new)"
   ]
  },
  {
   "cell_type": "code",
   "execution_count": 128,
   "id": "vietnamese-boards",
   "metadata": {},
   "outputs": [
    {
     "data": {
      "text/plain": [
       "array(['neutral', 'negative', 'neutral'], dtype=object)"
      ]
     },
     "execution_count": 128,
     "metadata": {},
     "output_type": "execute_result"
    }
   ],
   "source": [
    "rf.predict(X_new)"
   ]
  }
 ],
 "metadata": {
  "kernelspec": {
   "display_name": "Python 3",
   "language": "python",
   "name": "python3"
  },
  "language_info": {
   "codemirror_mode": {
    "name": "ipython",
    "version": 3
   },
   "file_extension": ".py",
   "mimetype": "text/x-python",
   "name": "python",
   "nbconvert_exporter": "python",
   "pygments_lexer": "ipython3",
   "version": "3.7.5"
  }
 },
 "nbformat": 4,
 "nbformat_minor": 5
}
